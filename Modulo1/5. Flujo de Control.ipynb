{
 "cells": [
  {
   "cell_type": "markdown",
   "metadata": {},
   "source": [
    "# FLUJO DE CONTROL"
   ]
  },
  {
   "cell_type": "markdown",
   "metadata": {},
   "source": [
    "El flujo de control ayudará a nuestro programa en la toma de decisiones"
   ]
  },
  {
   "cell_type": "markdown",
   "metadata": {},
   "source": [
    "<center> <img src='https://4.bp.blogspot.com/_QWwb06N-r1Y/TMeaj_jf7aI/AAAAAAAAARA/CUtpkzy0Pjo/s1600/selectiva.png' width=\"400\" height=\"250\"></center>"
   ]
  },
  {
   "cell_type": "markdown",
   "metadata": {},
   "source": [
    "## 1. Flujo de control (if - else) "
   ]
  },
  {
   "cell_type": "markdown",
   "metadata": {},
   "source": [
    "El uso de condiciones nos permite tener un mayor control sobre el flujo del programa."
   ]
  },
  {
   "cell_type": "code",
   "execution_count": 1,
   "metadata": {},
   "outputs": [
    {
     "name": "stdout",
     "output_type": "stream",
     "text": [
      "hola\n"
     ]
    }
   ],
   "source": [
    "# Uso de la sentencia if (si)\n",
    "if True:\n",
    "    print('hola')"
   ]
  },
  {
   "cell_type": "code",
   "execution_count": 7,
   "metadata": {},
   "outputs": [
    {
     "name": "stdout",
     "output_type": "stream",
     "text": [
      "el valor de x es:  9\n"
     ]
    }
   ],
   "source": [
    "# Sentencia else (si no)\n",
    "x=9\n",
    "if x==8 :\n",
    "    print('el valor de x es 8')\n",
    "else:\n",
    "    # print('el valor de x es distinto de 8')\n",
    "    print(\"el valor de x es: \", format(x))\n",
    "    #print ('el valor de x es {}', format(x))"
   ]
  },
  {
   "cell_type": "code",
   "execution_count": 7,
   "metadata": {},
   "outputs": [
    {
     "name": "stdout",
     "output_type": "stream",
     "text": [
      "a vale 5\n",
      "y b vale 10\n"
     ]
    }
   ],
   "source": [
    "# uso de If anidado\n",
    "a = 5\n",
    "b = 10\n",
    "if a == 5:\n",
    "    print(\"a vale\",a)\n",
    "    \n",
    "    if b == 10:\n",
    "        print('y b vale',b)"
   ]
  },
  {
   "cell_type": "markdown",
   "metadata": {},
   "source": [
    "## 2. Sentencia elif (sino si)"
   ]
  },
  {
   "cell_type": "markdown",
   "metadata": {},
   "source": [
    "Se encadena a un if u otro elif para comprobar múltiples condiciones, siempre que las anteriores no se ejecuten:"
   ]
  },
  {
   "cell_type": "code",
   "execution_count": 7,
   "metadata": {},
   "outputs": [
    {
     "name": "stdout",
     "output_type": "stream",
     "text": [
      "el valor de x es 9\n"
     ]
    }
   ],
   "source": [
    "# Sentencia else (si no)\n",
    "x=9\n",
    "if x==8 :\n",
    "    print('el valor de x es 8')\n",
    "elif x==9:\n",
    "    print('el valor de x es 9')\n",
    "elif x==10:\n",
    "    print('el valor de x es 10')\n",
    "else:\n",
    "    print('el valor de x es distinto de 8')"
   ]
  },
  {
   "cell_type": "code",
   "execution_count": null,
   "metadata": {},
   "outputs": [],
   "source": []
  },
  {
   "cell_type": "code",
   "execution_count": null,
   "metadata": {},
   "outputs": [],
   "source": []
  },
  {
   "cell_type": "code",
   "execution_count": null,
   "metadata": {},
   "outputs": [],
   "source": []
  },
  {
   "cell_type": "markdown",
   "metadata": {},
   "source": [
    "# EJERCICIOS"
   ]
  },
  {
   "cell_type": "markdown",
   "metadata": {},
   "source": [
    "#### 1.\n",
    "Crear un programa que permita decidir a una persona cruzar la calle o no según:\n",
    "- Si semáforo esta en verde cruzar la calle\n",
    "- Si semáforo esta en rojo o amarillo no cruzar\n",
    "\n",
    "La persona debe poder ingresar el estado del semáforo por teclado"
   ]
  },
  {
   "cell_type": "code",
   "execution_count": 12,
   "metadata": {},
   "outputs": [
    {
     "name": "stdin",
     "output_type": "stream",
     "text": [
      "¿Cual es el color del semaforo?: amarillo\n"
     ]
    }
   ],
   "source": [
    "a = input (\"¿Cual es el color del semaforo?:\")"
   ]
  },
  {
   "cell_type": "code",
   "execution_count": 13,
   "metadata": {},
   "outputs": [
    {
     "name": "stdout",
     "output_type": "stream",
     "text": [
      "espere a que cambie de color\n"
     ]
    }
   ],
   "source": [
    "if a == \"verde\":\n",
    "    print (\"si se puede cruzar\")\n",
    "elif a == \"rojo\":\n",
    "    print (\"no puede cruzar\")\n",
    "elif a == \"amarillo\":\n",
    "    print (\"espere a que cambie de color\")\n",
    "else:\n",
    "    print (\"Datos invalidos\")"
   ]
  },
  {
   "cell_type": "code",
   "execution_count": null,
   "metadata": {},
   "outputs": [],
   "source": []
  },
  {
   "cell_type": "markdown",
   "metadata": {},
   "source": [
    "#### 2.\n",
    "Escribir un programa que pregunte al usuario su edad y muestre por pantalla si es mayor de edad o no."
   ]
  },
  {
   "cell_type": "code",
   "execution_count": 14,
   "metadata": {},
   "outputs": [
    {
     "name": "stdin",
     "output_type": "stream",
     "text": [
      "¿Cual es tu edad? 22\n"
     ]
    }
   ],
   "source": [
    "a = int (input (\"¿Cual es tu edad?\"))"
   ]
  },
  {
   "cell_type": "code",
   "execution_count": 15,
   "metadata": {},
   "outputs": [
    {
     "name": "stdout",
     "output_type": "stream",
     "text": [
      "es mayor de edad\n"
     ]
    }
   ],
   "source": [
    "if a >= 18:\n",
    "    print(\"es mayor de edad\")\n",
    "else:\n",
    "    print (\" es menor de edad\")\n"
   ]
  },
  {
   "cell_type": "markdown",
   "metadata": {},
   "source": [
    "#### 3.\n",
    "Escribir un programa que almacene la cadena de caracteres <b>contraseña</b> en una variable, pregunte al usuario por la contraseña e imprima por pantalla si la contraseña introducida por el usuario coincide con la guardada en la variable sin tener en cuenta mayúsculas y minúsculas."
   ]
  },
  {
   "cell_type": "code",
   "execution_count": 28,
   "metadata": {},
   "outputs": [
    {
     "name": "stdin",
     "output_type": "stream",
     "text": [
      "Ingrese su contraseña contraseña\n"
     ]
    },
    {
     "name": "stdout",
     "output_type": "stream",
     "text": [
      "su contraseña coincide\n"
     ]
    }
   ],
   "source": [
    "con = \"contraseña\"\n",
    "pasword = input ('Ingrese su contraseña')\n",
    "if con == pasword.lower():\n",
    "    print ('su contraseña coincide')\n",
    "else:\n",
    "    print('su contraseña no coincide')"
   ]
  },
  {
   "cell_type": "code",
   "execution_count": null,
   "metadata": {},
   "outputs": [],
   "source": []
  },
  {
   "cell_type": "markdown",
   "metadata": {},
   "source": [
    "### 4. \n",
    "Escribir un programa que pida al usuario un número entero y muestre por pantalla si es par o impar.\n"
   ]
  },
  {
   "cell_type": "code",
   "execution_count": 33,
   "metadata": {},
   "outputs": [
    {
     "name": "stdin",
     "output_type": "stream",
     "text": [
      "ingrese un numero: 2\n"
     ]
    },
    {
     "name": "stdout",
     "output_type": "stream",
     "text": [
      "el numero es par\n"
     ]
    }
   ],
   "source": [
    "a = int(input('ingrese un numero:'))\n",
    "\n",
    "if a % 2 == 0:\n",
    "    print ('el numero es par')\n",
    "else:\n",
    "    print('el numero es impar')"
   ]
  },
  {
   "cell_type": "markdown",
   "metadata": {},
   "source": [
    "#### 5.\n",
    "Los tramos impositivos para la declaración de la renta en un determinado país son los siguientes:\n",
    "\n",
    "<table>\n",
    "    <thead>\n",
    "        <th style=\"text-align: center\">Renta</th>\n",
    "        <th style=\"text-align: center\">% de Impuesto</th>\n",
    "    </thead>\n",
    "    <tbody>\n",
    "        <tr>\n",
    "            <td style=\"text-align: center\">Menos de 10000€</td>\n",
    "            <td style=\"text-align: center\">5%</td>\n",
    "        </tr>\n",
    "        <tr>\n",
    "            <td style=\"text-align: center\">Entre 10000€ y 20000€</td>\n",
    "            <td style=\"text-align: center\">15%</td>\n",
    "        </tr>\n",
    "        <tr>\n",
    "            <td style=\"text-align: center\">Entre 200000€ y 35000€</td>\n",
    "            <td style=\"text-align: center\">20%</td>\n",
    "        </tr>\n",
    "        <tr>\n",
    "            <td style=\"text-align: center\">Más de 60000€</td>\n",
    "            <td style=\"text-align: center\">30%</td>\n",
    "        </tr>\n",
    "        <tr>\n",
    "            <td style=\"text-align: center\">Entre 350000€ y 60000€</td>\n",
    "            <td style=\"text-align: center\">45%</td>\n",
    "        </tr>\n",
    "    </tbody>\n",
    "</table>\n"
   ]
  },
  {
   "cell_type": "markdown",
   "metadata": {},
   "source": [
    "Realizar un programa que pueda decir el % de impuestos que una persona deba pagar según su sueldo"
   ]
  },
  {
   "cell_type": "code",
   "execution_count": 24,
   "metadata": {},
   "outputs": [
    {
     "name": "stdin",
     "output_type": "stream",
     "text": [
      "ingrese su sueldo aqui:  48000\n"
     ]
    }
   ],
   "source": [
    "sueldo = int (input ('ingrese su sueldo aqui: '))"
   ]
  },
  {
   "cell_type": "code",
   "execution_count": 26,
   "metadata": {},
   "outputs": [
    {
     "name": "stdout",
     "output_type": "stream",
     "text": [
      "lo que sebe pagar es : 14400.0\n"
     ]
    }
   ],
   "source": [
    "if sueldo <= 10000:\n",
    "    impuesto = sueldo * 0.05\n",
    "elif sueldo >= 10000 and sueldo < 20000:\n",
    "    impuesto = sueldo * 0.15\n",
    "elif sueldo >= 20000 and sueldo <35000:\n",
    "    impuesto = sueldo * 0.20\n",
    "elif sueldo >= 35000 and sueldo <60000:\n",
    "    impuesto = sueldo * 0.30\n",
    "elif sueldo >= 60000 and sueldo < 350000:\n",
    "    impuesto = sueldo * 0.45\n",
    "else:\n",
    "    impuesto = sueldo * 0.30\n",
    "print (\"lo que sebe pagar es :\", impuesto)"
   ]
  },
  {
   "cell_type": "markdown",
   "metadata": {},
   "source": [
    "#### 6. \n",
    "Realiza un programa que lea dos números por teclado y permita elegir entre 3 opciones en un menú:\n",
    "\n",
    "- Mostrar una suma de los dos números\n",
    "- Mostrar una resta de los dos números (el primero menos el segundo)\n",
    "- Mostrar una multiplicación de los dos números\n",
    "- En caso de introducir una opción inválida, el programa informará de que no es correcta.\n"
   ]
  },
  {
   "cell_type": "code",
   "execution_count": 11,
   "metadata": {},
   "outputs": [
    {
     "name": "stdin",
     "output_type": "stream",
     "text": [
      "Ingrese numero:  3\n",
      "Ingrese numero:  2\n"
     ]
    },
    {
     "name": "stdout",
     "output_type": "stream",
     "text": [
      "¿Que opcion elige?:\n",
      "      1) Mostrar una suma de los dos números\n",
      "      2) Mostrar una resta de los dos números (el primero menos el segundo)\n",
      "      3) Mostrar una multiplicación de los dos números\n"
     ]
    },
    {
     "name": "stdin",
     "output_type": "stream",
     "text": [
      "Escribre la opcion:  1\n"
     ]
    },
    {
     "name": "stdout",
     "output_type": "stream",
     "text": [
      "la suma de los numeros 3.0 y 2.0 es:  5.0\n"
     ]
    }
   ],
   "source": [
    "n1 = float(input('Ingrese numero: '))\n",
    "n2 = float(input('Ingrese numero: '))\n",
    "opcion = 0\n",
    "print(\"\"\"¿Que opcion elige?:\n",
    "      1) Mostrar una suma de los dos números\n",
    "      2) Mostrar una resta de los dos números (el primero menos el segundo)\n",
    "      3) Mostrar una multiplicación de los dos números\"\"\")\n",
    "opcion = int(input('Escribre la opcion: '))\n",
    "\n",
    "if opcion == 1:\n",
    "    suma = n1+n2\n",
    "    print('la suma de los numeros', n1, 'y' ,n2, 'es: ', suma)\n",
    "elif opcion == 2:\n",
    "    resta = n1-n2\n",
    "    print('la resta de los numeros',n1, 'y ',n2,'es:', resta)\n",
    "elif opcion == 3:\n",
    "    multi= n1*n2\n",
    "    print('la multiplicacion de los numeros', n1, 'y', n2, 'es:', multi)\n",
    "else:\n",
    "    print('opcion incorrecta')\n"
   ]
  },
  {
   "cell_type": "code",
   "execution_count": null,
   "metadata": {},
   "outputs": [],
   "source": []
  },
  {
   "cell_type": "markdown",
   "metadata": {},
   "source": [
    "#### 7.\n",
    "La pizzería Bella Napoli ofrece pizzas vegetarianas y no vegetarianas a sus clientes. Los ingredientes para cada tipo de pizza aparecen a continuación.\n",
    "\n",
    "- Ingredientes vegetarianos: Pimiento y tofu.\n",
    "- Ingredientes no vegetarianos: Peperoni, Jamón y Salmón.\n",
    "\n",
    "Escribir un programa que pregunte al usuario si quiere una pizza vegetariana o no, y en función de su respuesta le muestre un menú con los ingredientes disponibles para que elija. Solo se puede eligir un ingrediente además de la mozzarella y el tomate que están en todas la pizzas. Al final se debe mostrar por pantalla si la pizza elegida es vegetariana o no y todos los ingredientes que lleva."
   ]
  },
  {
   "cell_type": "code",
   "execution_count": 8,
   "metadata": {},
   "outputs": [
    {
     "name": "stdout",
     "output_type": "stream",
     "text": [
      "¿Que pizza quiere?:\n",
      "      1) Pizza Vegetariana\n",
      "      2) Pizza No vegetariana\n"
     ]
    },
    {
     "name": "stdin",
     "output_type": "stream",
     "text": [
      "Escribre la opcion:  2\n"
     ]
    },
    {
     "name": "stdout",
     "output_type": "stream",
     "text": [
      "La pizza elegida no es vegetariana\n",
      "¿Que ingrediente desea en su pizza?:\n",
      "      a) Peperoni \n",
      "      b) Jamon \n",
      "      c) salmon \n"
     ]
    },
    {
     "name": "stdin",
     "output_type": "stream",
     "text": [
      "Escribre la opcion:  a\n"
     ]
    },
    {
     "name": "stdout",
     "output_type": "stream",
     "text": [
      "Sus ingredientes son los siguientes: peperoni, mozzarella y tomate \n",
      "Gracias por su preferencia\n"
     ]
    }
   ],
   "source": [
    "opcion = 0\n",
    "print(\"\"\"¿Que pizza quiere?:\n",
    "      1) Pizza Vegetariana\n",
    "      2) Pizza No vegetariana\"\"\")\n",
    "opcion = int(input('Escribre la opcion: '))\n",
    "if opcion == 1:\n",
    "    print('La pizza elegida es vegetariana')\n",
    "    print(\"\"\"¿Que ingrediente desea en su pizza?:\n",
    "      a) Pimiento\n",
    "      b) Tofu\"\"\")\n",
    "    op = input('Escribre la opcion: ')\n",
    "    if op == 'a':\n",
    "        print('Sus ingredientes son los siguientes: pimiento, mozzarella y tomate ')\n",
    "        print ('Gracias por su preferencia')\n",
    "    elif op== 'b':\n",
    "        print('Sus ingredientes son los siguientes: tofu, mozzarella y tomate ')\n",
    "        print ('Gracias por su preferencia')\n",
    "    else:\n",
    "        print('Opcion incorrecta, vuelva a intentarlo')\n",
    "        print ('Gracias por su preferencia')\n",
    "elif opcion == 2:\n",
    "    print('La pizza elegida no es vegetariana')\n",
    "    print(\"\"\"¿Que ingrediente desea en su pizza?:\n",
    "      a) Peperoni \n",
    "      b) Jamon \n",
    "      c) salmon \"\"\")\n",
    "    op = input('Escribre la opcion: ')\n",
    "    if op == 'a':\n",
    "        print('Sus ingredientes son los siguientes: peperoni, mozzarella y tomate ')\n",
    "        print ('Gracias por su preferencia')\n",
    "    elif op== 'b':\n",
    "        print('Sus ingredientes son los siguientes: jamon, mozzarella y tomate ')\n",
    "        print ('Gracias por su preferencia')\n",
    "    elif op =='c':\n",
    "        print('Sus ingredientes son los siguientes: salmon, mozzarella y tomate ')\n",
    "        print ('Gracias por su preferencia')\n",
    "    else:\n",
    "        print('Opcion incorrecta, vuelva a intentarlo')\n",
    "        print ('Gracias por su preferencia')\n",
    "else:\n",
    "    print('Opcion incorrecta, vuelva a intentarlo')\n",
    "    print ('Gracias por su preferencia')"
   ]
  },
  {
   "cell_type": "code",
   "execution_count": null,
   "metadata": {},
   "outputs": [],
   "source": []
  }
 ],
 "metadata": {
  "kernelspec": {
   "display_name": "Python 3",
   "language": "python",
   "name": "python3"
  },
  "language_info": {
   "codemirror_mode": {
    "name": "ipython",
    "version": 3
   },
   "file_extension": ".py",
   "mimetype": "text/x-python",
   "name": "python",
   "nbconvert_exporter": "python",
   "pygments_lexer": "ipython3",
   "version": "3.8.3"
  }
 },
 "nbformat": 4,
 "nbformat_minor": 4
}
