{
 "cells": [
  {
   "cell_type": "markdown",
   "metadata": {},
   "source": [
    "# SUBSTITUCION"
   ]
  },
  {
   "cell_type": "markdown",
   "metadata": {},
   "source": [
    "Implemente un programa que implemente un cifrado de sustitución, como se indica a continuación."
   ]
  },
  {
   "cell_type": "markdown",
   "metadata": {},
   "source": [
    "<img src='./img/ejercicio2.PNG'>\n",
    "<!-- \"C:\\Users\\gdelgadr\\Desktop\\JoinProcess\\PYTHON-FUNDAMENTOS-JOINPROCESS\\Modulo1\\Ejercicios\\img\\ejercicio1.PNG\" -->"
   ]
  },
  {
   "cell_type": "markdown",
   "metadata": {},
   "source": [
    "## ANTECEDENTES"
   ]
  },
  {
   "cell_type": "markdown",
   "metadata": {},
   "source": [
    "En un cifrado de sustitución, “ciframos” (es decir, ocultamos de forma reversible) un mensaje reemplazando cada letra por otra. Para ello utilizamos una clave : en este caso, un mapeo de cada una de las letras del alfabeto a la letra a la que debe corresponder cuando lo cifremos. Para \"descifrar\" el mensaje, el receptor del mensaje necesitaría conocer la clave, de modo que pueda revertir el proceso: traducir el texto cifrado (generalmente llamado texto cifrado ) al mensaje original (generalmente llamado texto plano )."
   ]
  },
  {
   "cell_type": "markdown",
   "metadata": {},
   "source": [
    "Una clave, por ejemplo, podría ser la cadena <b>NQXPOMAFTRHLZGECYJIUWSKDVB</b>. Esta clave de 26 caracteres significa que <b>A</b> (la primera letra del alfabeto) debe convertirse en <b>N</b> (el primer carácter de la clave), <b>B</b> (la segunda letra del alfabeto) debe convertirse en <b>Q</b> (el segundo carácter de la clave) y así sucesivamente."
   ]
  },
  {
   "cell_type": "markdown",
   "metadata": {},
   "source": [
    "Un mensaje como <b>HELLO</b>, entonces, sería encriptado como <b>FOLLE</b>, reemplazando cada una de las letras según el mapeo determinado por la clave."
   ]
  },
  {
   "cell_type": "markdown",
   "metadata": {},
   "source": [
    "Escriba un programa llamado <b>substitution</b> que le permita cifrar mensajes usando un cifrado de sustitución. En el momento en que el usuario ejecuta el programa, debe decidir, proporcionando un argumento de línea de comandos, cuál debe ser la clave en el mensaje secreto que proporcionará en tiempo de ejecución.\n",
    "\n"
   ]
  },
  {
   "cell_type": "markdown",
   "metadata": {},
   "source": [
    "A continuación se muestran algunos ejemplos de cómo podría funcionar el programa. Por ejemplo, si el usuario ingresa una clave de <code>YTNSHKVEFXRBAUQZCLWDMIPGJO</code> y un texto sin formato de <code>HELLO</code>:"
   ]
  },
  {
   "cell_type": "markdown",
   "metadata": {},
   "source": [
    "### Ejemplo1\n",
    "<code>python substitution.py YTNSHKVEFXRBAUQZCLWDMIPGJO <code>\n",
    "<code>plaintext:  HELLO<code>\n",
    "<code>ciphertext: EHBBQ<code>"
   ]
  },
  {
   "cell_type": "markdown",
   "metadata": {},
   "source": [
    "Así es como el programa podría funcionar si el usuario proporciona una clave <code>VCHPRZGJNTLSKFBDQWAXEUYMOI</code> y un texto sin formato de <code>hello, world</code>:"
   ]
  },
  {
   "cell_type": "markdown",
   "metadata": {},
   "source": [
    "### Ejemplo2\n",
    "<code>python substitution.py VCHPRZGJNTLSKFBDQWAXEUYMOI <code>\n",
    "plaintext:  hello, world\n",
    "ciphertext: jrssb, ybwsp"
   ]
  },
  {
   "cell_type": "markdown",
   "metadata": {},
   "source": [
    "Observe que ni la coma ni el espacio fueron sustituidos por el cifrado. ¡Sustituya únicamente caracteres alfabéticos! Observe también que se ha conservado el caso del mensaje original. Las letras minúsculas permanecen en minúsculas y las letras mayúsculas permanecen en mayúsculas.\n",
    "\n",
    "No importa si los caracteres de la clave en sí son mayúsculas o minúsculas. Una clave de <code>VCHPRZGJNTLSKFBDQWAXEUYMOI</code> es funcionalmente idéntica a una clave de <code>vchprzgjntlskfbdqwaxeuymoi</code>(tal cual, para el caso <code>VcHpRzGjNtLsKfBdQwAxEuYmOi</code>).\n",
    "\n",
    "¿Y si un usuario no proporciona una clave válida?"
   ]
  },
  {
   "cell_type": "markdown",
   "metadata": {},
   "source": [
    "<code>python substitution.py ABC\n",
    "Key must contain 26 characters."
   ]
  },
  {
   "cell_type": "markdown",
   "metadata": {},
   "source": [
    "Para todos los casos en que no se proporcione una clave válida el programa debe concluir con algún mensaje de error"
   ]
  },
  {
   "cell_type": "markdown",
   "metadata": {},
   "source": [
    "## ESPECIFICACIONES"
   ]
  },
  {
   "cell_type": "markdown",
   "metadata": {},
   "source": [
    "Diseñe e implemente un programa, <code>substitution</code> que encripta mensajes usando un cifrado de sustitución.\n",
    "\n",
    "- Implemente su programa en un archivo llamado <code>substitution.py</code>.\n",
    "- Su programa debe aceptar un único argumento de línea de comandos, la clave que se utilizará para la sustitución. La clave en sí no debe distinguir entre mayúsculas y minúsculas, por lo que si algún carácter de la clave está en mayúsculas o minúsculas no debería afectar el comportamiento de su programa.\n",
    "- Si su programa se ejecuta sin ningún argumento de línea de comando o con más de un argumento de línea de comando, su programa debe imprimir un mensaje de error de su elección (con <code>print</code>) y retornar un valor de <code>1</code>(que tiende a significar un error) inmediatamente.\n",
    "- Si la clave no es válida (por ejemplo, al no contener 26 caracteres, contener cualquier carácter que no sea un carácter alfabético o no contener cada letra exactamente una vez), su programa debe imprimir un mensaje de error de su elección (con <code>print</code>) y retornar un valor de <code>1</code>(que tiende a significar un error) inmediatamente.\n",
    "- Su programa debe generar <code>plaintext:</code> (sin una nueva línea) y luego solicitar al usuario un texto plano (usando <code>input</code>).\n",
    "- Su programa debe generar <code>ciphertext:</code>(sin una nueva línea) seguido por el texto cifrado correspondiente del texto sin formato, con cada carácter alfabético en el texto sin formato sustituido por el carácter correspondiente en el texto cifrado; Los caracteres no alfabéticos deben imprimirse sin cambios.\n",
    "- Su programa debe preservar el uso de mayúsculas y minúsculas: las letras en mayúscula deben permanecer en mayúsculas; las letras minúsculas deben permanecer en minúsculas.\n",
    "\n",
    "- Después de generar texto cifrado, debe imprimir una nueva línea con el valor de <code>0</code> (el cual implica ejecución exitosa)."
   ]
  },
  {
   "cell_type": "markdown",
   "metadata": {},
   "source": [
    "## Pruebas"
   ]
  },
  {
   "cell_type": "markdown",
   "metadata": {},
   "source": [
    "Asegúrese de probar su código para cada uno de los siguientes.\n",
    "\n",
    "- Ejecute su programa como python sustitucion.py, para cada uno de los ejemplos dados en esta página\n",
    "- Otras pruebas se realizarán durante la clase"
   ]
  },
  {
   "cell_type": "code",
   "execution_count": 2,
   "metadata": {},
   "outputs": [],
   "source": [
    "#ejemplo 2"
   ]
  },
  {
   "cell_type": "code",
   "execution_count": 3,
   "metadata": {},
   "outputs": [
    {
     "name": "stdout",
     "output_type": "stream",
     "text": [
      "plaintext: hello, world\n",
      "ciphertext: NRGKKDMDAKP\n"
     ]
    }
   ],
   "source": [
    "def encripta(msg):\n",
    "    chars_x = \"abcdefeghijklmnopqrstuvwxyz\"\n",
    "    chars_y = \"VCHPRZGJNTLSKFBDQWAXEUYMOI\"\n",
    "    msg_cifrado=\"\"\n",
    "    for x in msg:\n",
    "        for n in range (len(chars_x)):\n",
    "            if x==chars_x[n]:\n",
    "                msg_cifrado += chars_y[n]\n",
    "    return msg_cifrado \n",
    "\n",
    "msg = \"hello, world\"            \n",
    "msg_cifrado = encripta(msg) \n",
    "print('plaintext:', msg)\n",
    "print('ciphertext:', msg_cifrado)\n"
   ]
  },
  {
   "cell_type": "code",
   "execution_count": null,
   "metadata": {},
   "outputs": [],
   "source": []
  },
  {
   "cell_type": "code",
   "execution_count": null,
   "metadata": {},
   "outputs": [],
   "source": [
    "### Pseudo Codigo"
   ]
  },
  {
   "cell_type": "raw",
   "metadata": {},
   "source": [
    "1. leer llave <<code>llave sustitucion </code> y solicitar <code>plaintex</code>\n",
    "2. Obtengo una lista con el <code>alfabeto</code>\n",
    "3. Recorro letra por letra de plaintext"
   ]
  },
  {
   "cell_type": "code",
   "execution_count": null,
   "metadata": {},
   "outputs": [],
   "source": []
  },
  {
   "cell_type": "code",
   "execution_count": null,
   "metadata": {},
   "outputs": [],
   "source": []
  },
  {
   "cell_type": "code",
   "execution_count": 9,
   "metadata": {},
   "outputs": [],
   "source": [
    "import string"
   ]
  },
  {
   "cell_type": "code",
   "execution_count": 10,
   "metadata": {},
   "outputs": [],
   "source": [
    "alfabeto = string.ascii_uppercase\n",
    "clave = 'VCHPRZGJNTLSKFBDQWAXEUYMOI'\n",
    "clave = clave.upper()\n"
   ]
  },
  {
   "cell_type": "code",
   "execution_count": 11,
   "metadata": {},
   "outputs": [
    {
     "name": "stdin",
     "output_type": "stream",
     "text": [
      "Ingrese texto a incriptar:  HELLO\n"
     ]
    }
   ],
   "source": [
    "#leer el plaintex\n",
    "plaintext = input(\"Ingrese texto a incriptar: \")"
   ]
  },
  {
   "cell_type": "code",
   "execution_count": 12,
   "metadata": {},
   "outputs": [
    {
     "data": {
      "text/plain": [
       "'JRSSB'"
      ]
     },
     "execution_count": 12,
     "metadata": {},
     "output_type": "execute_result"
    }
   ],
   "source": [
    "ciphertext = ''\n",
    "for letra in plaintext:\n",
    "    #algoritmo transformacion\n",
    "    index_alfa = alfabeto.find(letra.upper())\n",
    "    \n",
    "    if index_alfa>=0:\n",
    "        if letra.isupper():\n",
    "            letra = clave[index_alfa]\n",
    "        else:\n",
    "            letra = clave[index_alfa].lower()\n",
    "    #completando 'cibertext' +=  lo que tengo + lo nuevo\n",
    "    ciphertext += letra\n",
    "\n",
    "ciphertext"
   ]
  },
  {
   "cell_type": "code",
   "execution_count": 27,
   "metadata": {},
   "outputs": [
    {
     "data": {
      "text/plain": [
       "'d'"
      ]
     },
     "execution_count": 27,
     "metadata": {},
     "output_type": "execute_result"
    }
   ],
   "source": [
    "letra ='d'\n",
    "letra"
   ]
  },
  {
   "cell_type": "code",
   "execution_count": 28,
   "metadata": {},
   "outputs": [
    {
     "data": {
      "text/plain": [
       "False"
      ]
     },
     "execution_count": 28,
     "metadata": {},
     "output_type": "execute_result"
    }
   ],
   "source": [
    "letra.isupper()"
   ]
  },
  {
   "cell_type": "code",
   "execution_count": null,
   "metadata": {},
   "outputs": [],
   "source": []
  },
  {
   "cell_type": "code",
   "execution_count": null,
   "metadata": {},
   "outputs": [],
   "source": []
  },
  {
   "cell_type": "code",
   "execution_count": 23,
   "metadata": {},
   "outputs": [
    {
     "data": {
      "text/plain": [
       "','"
      ]
     },
     "execution_count": 23,
     "metadata": {},
     "output_type": "execute_result"
    }
   ],
   "source": [
    "#algoritmo de transformacion\n",
    "letra=','\n",
    "letra.upper()"
   ]
  },
  {
   "cell_type": "code",
   "execution_count": 24,
   "metadata": {},
   "outputs": [
    {
     "data": {
      "text/plain": [
       "-1"
      ]
     },
     "execution_count": 24,
     "metadata": {},
     "output_type": "execute_result"
    }
   ],
   "source": [
    "index_alfa=alfabeto.find(letra.upper())\n",
    "index_alfa"
   ]
  },
  {
   "cell_type": "code",
   "execution_count": 25,
   "metadata": {},
   "outputs": [
    {
     "data": {
      "text/plain": [
       "'I'"
      ]
     },
     "execution_count": 25,
     "metadata": {},
     "output_type": "execute_result"
    }
   ],
   "source": [
    "clave[index_alfa]"
   ]
  },
  {
   "cell_type": "code",
   "execution_count": 19,
   "metadata": {},
   "outputs": [
    {
     "data": {
      "text/plain": [
       "'D'"
      ]
     },
     "execution_count": 19,
     "metadata": {},
     "output_type": "execute_result"
    }
   ],
   "source": []
  },
  {
   "cell_type": "code",
   "execution_count": null,
   "metadata": {},
   "outputs": [],
   "source": []
  },
  {
   "cell_type": "code",
   "execution_count": 7,
   "metadata": {},
   "outputs": [],
   "source": [
    "import string"
   ]
  },
  {
   "cell_type": "code",
   "execution_count": 11,
   "metadata": {},
   "outputs": [],
   "source": [
    "alfabeto = string.ascii_uppercase\n",
    "clave = 'VCHPRZGJNTLSKFBDQWAXEUYMOI'"
   ]
  },
  {
   "cell_type": "code",
   "execution_count": 13,
   "metadata": {},
   "outputs": [
    {
     "name": "stdin",
     "output_type": "stream",
     "text": [
      "Ingrese texto a incriptar:  Hello\n"
     ]
    }
   ],
   "source": [
    "plaintext = input(\"Ingrese texto a incriptar: \")"
   ]
  },
  {
   "cell_type": "code",
   "execution_count": 14,
   "metadata": {},
   "outputs": [
    {
     "name": "stdout",
     "output_type": "stream",
     "text": [
      "H\n",
      "e\n",
      "l\n",
      "l\n",
      "o\n"
     ]
    }
   ],
   "source": [
    "ciphertext=''\n",
    "for p in plaintext:\n",
    "    print (p)"
   ]
  },
  {
   "cell_type": "code",
   "execution_count": 15,
   "metadata": {},
   "outputs": [
    {
     "data": {
      "text/plain": [
       "False"
      ]
     },
     "execution_count": 15,
     "metadata": {},
     "output_type": "execute_result"
    }
   ],
   "source": [
    "p.isupper()"
   ]
  },
  {
   "cell_type": "code",
   "execution_count": 17,
   "metadata": {},
   "outputs": [
    {
     "data": {
      "text/plain": [
       "'B'"
      ]
     },
     "execution_count": 17,
     "metadata": {},
     "output_type": "execute_result"
    }
   ],
   "source": [
    "alfabeto[1]"
   ]
  },
  {
   "cell_type": "code",
   "execution_count": null,
   "metadata": {},
   "outputs": [],
   "source": []
  },
  {
   "cell_type": "code",
   "execution_count": null,
   "metadata": {},
   "outputs": [],
   "source": []
  },
  {
   "cell_type": "code",
   "execution_count": 5,
   "metadata": {},
   "outputs": [],
   "source": [
    "import string"
   ]
  },
  {
   "cell_type": "code",
   "execution_count": 6,
   "metadata": {},
   "outputs": [],
   "source": [
    "alfabeto = string.ascii_uppercase\n",
    "clave = 'YTNSHKVEFXrBAUQZCLWDMIPGJO'\n",
    "\n",
    "clave = clave.upper()"
   ]
  },
  {
   "cell_type": "code",
   "execution_count": 7,
   "metadata": {},
   "outputs": [
    {
     "name": "stdin",
     "output_type": "stream",
     "text": [
      "introduzca palabra a encriptar:  Hello\n"
     ]
    }
   ],
   "source": [
    "# leemos plaintext\n",
    "plaintext = input('introduzca palabra a encriptar: ')"
   ]
  },
  {
   "cell_type": "code",
   "execution_count": 8,
   "metadata": {},
   "outputs": [
    {
     "data": {
      "text/plain": [
       "'Ehbbq'"
      ]
     },
     "execution_count": 8,
     "metadata": {},
     "output_type": "execute_result"
    }
   ],
   "source": [
    "ciphertext = ''\n",
    "for letra in plaintext:\n",
    "    \n",
    "    # algoritmo transformacion\n",
    "    index_alfa = alfabeto.find(letra.upper()) # posicion de letra en alfabeto\n",
    "    \n",
    "    if index_alfa >= 0:\n",
    "        if letra.isupper():\n",
    "            letra = clave[index_alfa] # transformo letra segun indice encontrado\n",
    "        else:\n",
    "            letra = clave[index_alfa].lower()\n",
    "    # Completando 'ciphertext' : 'a' + 'b'\n",
    "    ciphertext += letra\n",
    "    \n",
    "ciphertext"
   ]
  }
 ],
 "metadata": {
  "kernelspec": {
   "display_name": "Python 3",
   "language": "python",
   "name": "python3"
  },
  "language_info": {
   "codemirror_mode": {
    "name": "ipython",
    "version": 3
   },
   "file_extension": ".py",
   "mimetype": "text/x-python",
   "name": "python",
   "nbconvert_exporter": "python",
   "pygments_lexer": "ipython3",
   "version": "3.8.3"
  }
 },
 "nbformat": 4,
 "nbformat_minor": 4
}
