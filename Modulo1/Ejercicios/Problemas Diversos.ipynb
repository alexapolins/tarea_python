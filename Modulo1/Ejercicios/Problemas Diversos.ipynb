{
 "cells": [
  {
   "cell_type": "markdown",
   "metadata": {},
   "source": [
    "# PROBLEMAS DIVERSOS"
   ]
  },
  {
   "cell_type": "markdown",
   "metadata": {},
   "source": [
    "<h3>1.</h3>\n",
    "Escribí un programa que solicite al usuario ingresar la cantidad de kilómetros recorridos por una motocicleta y la cantidad de litros de combustible que consumió durante ese recorrido. Mostrar el consumo de combustible por kilómetro."
   ]
  },
  {
   "cell_type": "markdown",
   "metadata": {},
   "source": [
    "<code>Kilómetros recorridos: 260\n",
    "Litros de combustible gastados: 12.5\n",
    "El consumo por kilómetro es de 20.8<code>"
   ]
  },
  {
   "cell_type": "code",
   "execution_count": 1,
   "metadata": {},
   "outputs": [
    {
     "name": "stdin",
     "output_type": "stream",
     "text": [
      "Ingrese los kilometros recorridos:  260\n"
     ]
    }
   ],
   "source": [
    "num_1 = int (input ('Ingrese los kilometros recorridos: '))"
   ]
  },
  {
   "cell_type": "code",
   "execution_count": 2,
   "metadata": {},
   "outputs": [
    {
     "name": "stdin",
     "output_type": "stream",
     "text": [
      "Litros gastados:  12.5\n"
     ]
    }
   ],
   "source": [
    "num_2 = float (input ('Litros gastados: '))"
   ]
  },
  {
   "cell_type": "code",
   "execution_count": 3,
   "metadata": {},
   "outputs": [],
   "source": [
    "c = num_1 / num_2"
   ]
  },
  {
   "cell_type": "code",
   "execution_count": 4,
   "metadata": {},
   "outputs": [
    {
     "name": "stdout",
     "output_type": "stream",
     "text": [
      "el consumo por kilometro es de:  20.8\n"
     ]
    }
   ],
   "source": [
    "print (\"el consumo por kilometro es de: \", c)"
   ]
  },
  {
   "cell_type": "code",
   "execution_count": null,
   "metadata": {},
   "outputs": [],
   "source": []
  },
  {
   "cell_type": "markdown",
   "metadata": {},
   "source": [
    "### 2.\n",
    "Escriba un programa que pida los coeficientes de una ecuación de segundo grado <code>(a x² + b x + c = 0)</code> y escriba la solución.\n",
    "\n",
    "Se recuerda que una ecuación de segundo grado puede no tener solución, tener una solución única, tener dos soluciones o que todos los números sean solución."
   ]
  },
  {
   "cell_type": "markdown",
   "metadata": {},
   "source": [
    "<img src='https://i.pinimg.com/originals/d3/f7/01/d3f701528ad56ce0f5a98d7c91722fd7.png'>"
   ]
  },
  {
   "cell_type": "markdown",
   "metadata": {},
   "source": [
    "Su programa debe indicar:\n",
    "- En caso la ecuación cuadrática tenga solución real, su programa debe brindar la solución\n",
    "- En caso su ecuación no tenga solución real, su programa debe brindar un mensaje que diga \"Ecuación no presenta solución real\""
   ]
  },
  {
   "cell_type": "code",
   "execution_count": 8,
   "metadata": {},
   "outputs": [
    {
     "name": "stdout",
     "output_type": "stream",
     "text": [
      "Teniendo la ecuación ax^2 + bx + c\n",
      "-------\n"
     ]
    },
    {
     "name": "stdin",
     "output_type": "stream",
     "text": [
      "ingrese el valor de a: 4\n",
      "ingrese el valor de b: 3\n",
      "ingrese el valor de c: 1\n"
     ]
    },
    {
     "name": "stdout",
     "output_type": "stream",
     "text": [
      "4 x^2 + 3 x +  1\n",
      "No existe soluciones reales\n",
      "--- soluciones---\n",
      "Solucion x1: -2.3431457505076194\n",
      "solucion x2: -2.3431457505076194\n"
     ]
    }
   ],
   "source": [
    "print (\"Teniendo la ecuación ax^2 + bx + c\")\n",
    "print(\"-------\")\n",
    "a = int(input(\"ingrese el valor de a:\"))\n",
    "b = int(input(\"ingrese el valor de b:\"))\n",
    "c = int(input(\"ingrese el valor de c:\"))\n",
    "print (a,\"x^2 +\",b,\"x + \", c)\n",
    "\n",
    "x= (b*b)- 4*a*c\n",
    "\n",
    "if x<=0:\n",
    "    print (\"No existe soluciones reales\")\n",
    "else:\n",
    "    x1 = (-b + (x**(1/2)))\n",
    "    x2 = (-b + (x**(1/2)))\n",
    "\n",
    "print(\"--- soluciones---\")\n",
    "print(\"Solucion x1:\", x1)\n",
    "print(\"solucion x2:\", x2)"
   ]
  },
  {
   "cell_type": "code",
   "execution_count": null,
   "metadata": {},
   "outputs": [],
   "source": []
  }
 ],
 "metadata": {
  "kernelspec": {
   "display_name": "Python 3",
   "language": "python",
   "name": "python3"
  },
  "language_info": {
   "codemirror_mode": {
    "name": "ipython",
    "version": 3
   },
   "file_extension": ".py",
   "mimetype": "text/x-python",
   "name": "python",
   "nbconvert_exporter": "python",
   "pygments_lexer": "ipython3",
   "version": "3.8.3"
  }
 },
 "nbformat": 4,
 "nbformat_minor": 4
}
