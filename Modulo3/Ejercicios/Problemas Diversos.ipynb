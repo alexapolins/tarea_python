{
 "cells": [
  {
   "cell_type": "markdown",
   "metadata": {},
   "source": [
    "# PROBLEMAS DIVERSOS"
   ]
  },
  {
   "cell_type": "markdown",
   "metadata": {},
   "source": [
    "<h3>1.</h3>\n",
    "Realizar una función que permita la carga de n alumnos. Por cada alumno se deberá preguntar el nombre completo y permitir el ingreso de 3 notas. Las notas deben estar comprendidas entre 0 y 10. Devolver el listado de alumnos."
   ]
  },
  {
   "cell_type": "code",
   "execution_count": 33,
   "metadata": {},
   "outputs": [
    {
     "name": "stdin",
     "output_type": "stream",
     "text": [
      "Ingrese el número de alumnos  2\n"
     ]
    }
   ],
   "source": [
    "alumnos=[]\n",
    "num=int(input(\"Ingrese el número de alumnos \"))"
   ]
  },
  {
   "cell_type": "code",
   "execution_count": 34,
   "metadata": {},
   "outputs": [
    {
     "name": "stdin",
     "output_type": "stream",
     "text": [
      "Ingrese el nombre completo del alumno:  maria\n",
      "Ingrese la nota 1 del alumno  10\n",
      "Ingrese la nota 2 del alumno  5\n",
      "Ingrese la nota 3 del alumno  4\n",
      "Ingrese el nombre completo del alumno:  juan\n",
      "Ingrese la nota 1 del alumno  5\n",
      "Ingrese la nota 2 del alumno  4\n",
      "Ingrese la nota 3 del alumno  6\n"
     ]
    }
   ],
   "source": [
    "listado_alumnos=[]\n",
    "for i in range(num):\n",
    "    nomb=input(\"Ingrese el nombre completo del alumno: \")\n",
    "    nota1=int(input(\"Ingrese la nota 1 del alumno \"))\n",
    "    nota2=int(input(\"Ingrese la nota 2 del alumno \"))\n",
    "    nota3=int(input(\"Ingrese la nota 3 del alumno \"))\n",
    "    alumnos={'nombre':nomb,'notas':[nota1,nota2,nota3]}\n",
    "    listado_alumnos.append(alumnos)"
   ]
  },
  {
   "cell_type": "code",
   "execution_count": 35,
   "metadata": {},
   "outputs": [
    {
     "data": {
      "text/plain": [
       "[{'nombre': 'maria', 'notas': [10, 5, 4]},\n",
       " {'nombre': 'juan', 'notas': [5, 4, 6]}]"
      ]
     },
     "execution_count": 35,
     "metadata": {},
     "output_type": "execute_result"
    }
   ],
   "source": [
    "listado_alumnos"
   ]
  },
  {
   "cell_type": "code",
   "execution_count": null,
   "metadata": {},
   "outputs": [],
   "source": []
  },
  {
   "cell_type": "code",
   "execution_count": 30,
   "metadata": {},
   "outputs": [],
   "source": [
    "def notas():\n",
    "    alumnos=[]\n",
    "    num=int(input(\"Ingrese el número de alumnos \"))\n",
    "    listado_alumnos=[]\n",
    "    for i in range(num):\n",
    "        nomb=input(\"Ingrese el nombre completo del alumno: \")\n",
    "        nota1=int(input(\"Ingrese la nota 1 del alumno \"))\n",
    "        nota2=int(input(\"Ingrese la nota 2 del alumno \"))\n",
    "        nota3=int(input(\"Ingrese la nota 3 del alumno \"))\n",
    "        alumnos={'nombre':nomb,'notas':[nota1,nota2,nota3]}\n",
    "        listado_alumnos.append(alumnos)"
   ]
  },
  {
   "cell_type": "code",
   "execution_count": 31,
   "metadata": {},
   "outputs": [
    {
     "name": "stdin",
     "output_type": "stream",
     "text": [
      "Ingrese el número de alumnos  2\n",
      "Ingrese el nombre completo del alumno:  maria\n",
      "Ingrese la nota 1 del alumno  110\n",
      "Ingrese la nota 2 del alumno  2\n",
      "Ingrese la nota 3 del alumno  0\n",
      "Ingrese el nombre completo del alumno:  juan\n",
      "Ingrese la nota 1 del alumno  4\n",
      "Ingrese la nota 2 del alumno  5\n",
      "Ingrese la nota 3 del alumno  2\n"
     ]
    }
   ],
   "source": [
    "notas()"
   ]
  },
  {
   "cell_type": "code",
   "execution_count": 32,
   "metadata": {},
   "outputs": [
    {
     "ename": "NameError",
     "evalue": "name 'listado_alumnos' is not defined",
     "output_type": "error",
     "traceback": [
      "\u001b[1;31m---------------------------------------------------------------------------\u001b[0m",
      "\u001b[1;31mNameError\u001b[0m                                 Traceback (most recent call last)",
      "\u001b[1;32m<ipython-input-32-4476d921e139>\u001b[0m in \u001b[0;36m<module>\u001b[1;34m\u001b[0m\n\u001b[1;32m----> 1\u001b[1;33m \u001b[0mlistado_alumnos\u001b[0m\u001b[1;33m\u001b[0m\u001b[1;33m\u001b[0m\u001b[0m\n\u001b[0m",
      "\u001b[1;31mNameError\u001b[0m: name 'listado_alumnos' is not defined"
     ]
    }
   ],
   "source": [
    "listado_alumnos"
   ]
  },
  {
   "cell_type": "code",
   "execution_count": null,
   "metadata": {},
   "outputs": [],
   "source": []
  },
  {
   "cell_type": "code",
   "execution_count": 2,
   "metadata": {},
   "outputs": [],
   "source": [
    "def listado1():\n",
    "    alumnos=[]\n",
    "    num=int(input(\"Ingrese el número de alumnos \"))\n",
    "    listado_alumnos=[]\n",
    "    for i in range(num):\n",
    "        nomb=input(\"Ingrese el nombre completo del alumno: \")\n",
    "        nota1=int(input(\"Ingrese la nota 1 del alumno \"))\n",
    "        if nota1>=0 and nota1<=10:\n",
    "            nota2=int(input(\"Ingrese la nota 2 del alumno \"))\n",
    "            if nota2>=0 and nota2<=10:\n",
    "                nota3=int(input(\"Ingrese la nota 3 del alumno \"))\n",
    "                if nota3>=0 and nota3<=10:\n",
    "                    alumnos={'nombre':nomb,'notas':[nota1,nota2,nota3]}\n",
    "                else:\n",
    "                    print(\"valor incorrecto\")\n",
    "            else:\n",
    "                print(\"valor incorrecto\")\n",
    "        else:\n",
    "            print(\"valor incorrecto\")\n",
    "        alumnos={'nombre':nomb,'notas':[nota1,nota2,nota3]}\n",
    "    listado_alumnos.append(alumnos)  "
   ]
  },
  {
   "cell_type": "code",
   "execution_count": 3,
   "metadata": {},
   "outputs": [
    {
     "name": "stdin",
     "output_type": "stream",
     "text": [
      "Ingrese el número de alumnos  2\n",
      "Ingrese el nombre completo del alumno:  maria juana caceres\n",
      "Ingrese la nota 1 del alumno  10\n",
      "Ingrese la nota 2 del alumno  8\n",
      "Ingrese la nota 3 del alumno  7\n",
      "Ingrese el nombre completo del alumno:  percy escalante\n",
      "Ingrese la nota 1 del alumno  8\n",
      "Ingrese la nota 2 del alumno  4\n",
      "Ingrese la nota 3 del alumno  7\n"
     ]
    }
   ],
   "source": [
    "listado1()"
   ]
  },
  {
   "cell_type": "code",
   "execution_count": 5,
   "metadata": {},
   "outputs": [
    {
     "name": "stdin",
     "output_type": "stream",
     "text": [
      "Ingrese el número de alumnos  2\n",
      "Ingrese el nombre completo del alumno:  maria\n",
      "Ingrese la nota 1 del alumno  10\n",
      "Ingrese la nota 2 del alumno  8\n",
      "Ingrese la nota 3 del alumno  7\n",
      "Ingrese el nombre completo del alumno:  mario\n",
      "Ingrese la nota 1 del alumno  7\n",
      "Ingrese la nota 2 del alumno  8\n",
      "Ingrese la nota 3 del alumno  9\n"
     ]
    }
   ],
   "source": [
    "alumnos=[]\n",
    "num=int(input(\"Ingrese el número de alumnos \"))\n",
    "listado_alumnos=[]\n",
    "for i in range(num):\n",
    "    nomb=input(\"Ingrese el nombre completo del alumno: \")\n",
    "    nota1=int(input(\"Ingrese la nota 1 del alumno \"))\n",
    "    if nota1>=0 and nota1<=10:\n",
    "        nota2=int(input(\"Ingrese la nota 2 del alumno \"))\n",
    "        if nota2>=0 and nota2<=10:\n",
    "            nota3=int(input(\"Ingrese la nota 3 del alumno \"))\n",
    "            if nota3>=0 and nota3<=10:\n",
    "                alumnos={'nombre':nomb,'notas':[nota1,nota2,nota3]}\n",
    "            else:\n",
    "                print(\"valor incorrecto\")\n",
    "        else:\n",
    "            print(\"valor incorrecto\")\n",
    "    else:\n",
    "        print(\"valor incorrecto\")\n",
    "    notas=[nota1,nota2,nota3]\n",
    "    alumnos={'nombre':nomb,'notas':notas}\n",
    "    listado_alumnos.append(alumnos)  "
   ]
  },
  {
   "cell_type": "code",
   "execution_count": 6,
   "metadata": {},
   "outputs": [
    {
     "data": {
      "text/plain": [
       "[{'nombre': 'maria', 'notas': [10, 8, 7]},\n",
       " {'nombre': 'mario', 'notas': [7, 8, 9]}]"
      ]
     },
     "execution_count": 6,
     "metadata": {},
     "output_type": "execute_result"
    }
   ],
   "source": [
    "listado_alumnos"
   ]
  },
  {
   "cell_type": "markdown",
   "metadata": {},
   "source": [
    "### 2.\n",
    "Definir una función que dado un listado de alumnos evalúe cuántos aprobaron y cuántos desaprobaron, teniendo en cuenta que se aprueba con 4. La nota será el promedio de las 3 notas para cada alumno."
   ]
  },
  {
   "cell_type": "code",
   "execution_count": 10,
   "metadata": {},
   "outputs": [],
   "source": [
    "def promedio():\n",
    "    prom=[]\n",
    "    promedio= sum(notas)/3\n",
    "    if promedio >=4:\n",
    "        listado_alumnos=[]\n",
    "        alumnos={'nombre',nomb,'promedio', promedio}\n",
    "        print('nombre',nomb,'Aprobo', promedio)\n",
    "    else:\n",
    "        print ('nombre',nomb,'desaprobo', promedio)\n",
    "        prom.append(promedio)"
   ]
  },
  {
   "cell_type": "code",
   "execution_count": 11,
   "metadata": {},
   "outputs": [
    {
     "name": "stdout",
     "output_type": "stream",
     "text": [
      "nombre mario Aprobo 8.0\n"
     ]
    }
   ],
   "source": [
    "promedio()"
   ]
  },
  {
   "cell_type": "markdown",
   "metadata": {},
   "source": [
    "### 3.\n",
    "Informar el promedio de nota del curso total."
   ]
  },
  {
   "cell_type": "code",
   "execution_count": 14,
   "metadata": {},
   "outputs": [],
   "source": [
    "def promediot():\n",
    "    prom.append(promedio)\n",
    "    promediotot=sum(promedio)/num\n",
    "    print(\"el promedio total es:\",promediotot)"
   ]
  },
  {
   "cell_type": "code",
   "execution_count": 15,
   "metadata": {},
   "outputs": [
    {
     "ename": "NameError",
     "evalue": "name 'prom' is not defined",
     "output_type": "error",
     "traceback": [
      "\u001b[1;31m---------------------------------------------------------------------------\u001b[0m",
      "\u001b[1;31mNameError\u001b[0m                                 Traceback (most recent call last)",
      "\u001b[1;32m<ipython-input-15-2a77f1c79bd5>\u001b[0m in \u001b[0;36m<module>\u001b[1;34m\u001b[0m\n\u001b[1;32m----> 1\u001b[1;33m \u001b[0mpromediot\u001b[0m\u001b[1;33m(\u001b[0m\u001b[1;33m)\u001b[0m\u001b[1;33m\u001b[0m\u001b[1;33m\u001b[0m\u001b[0m\n\u001b[0m",
      "\u001b[1;32m<ipython-input-14-59a8aaf28026>\u001b[0m in \u001b[0;36mpromediot\u001b[1;34m()\u001b[0m\n\u001b[0;32m      1\u001b[0m \u001b[1;32mdef\u001b[0m \u001b[0mpromediot\u001b[0m\u001b[1;33m(\u001b[0m\u001b[1;33m)\u001b[0m\u001b[1;33m:\u001b[0m\u001b[1;33m\u001b[0m\u001b[1;33m\u001b[0m\u001b[0m\n\u001b[1;32m----> 2\u001b[1;33m     \u001b[0mprom\u001b[0m\u001b[1;33m.\u001b[0m\u001b[0mappend\u001b[0m\u001b[1;33m(\u001b[0m\u001b[0mpromedio\u001b[0m\u001b[1;33m)\u001b[0m\u001b[1;33m\u001b[0m\u001b[1;33m\u001b[0m\u001b[0m\n\u001b[0m\u001b[0;32m      3\u001b[0m     \u001b[0mpromediotot\u001b[0m\u001b[1;33m=\u001b[0m\u001b[0msum\u001b[0m\u001b[1;33m(\u001b[0m\u001b[0mpromedio\u001b[0m\u001b[1;33m)\u001b[0m\u001b[1;33m/\u001b[0m\u001b[0mnum\u001b[0m\u001b[1;33m\u001b[0m\u001b[1;33m\u001b[0m\u001b[0m\n\u001b[0;32m      4\u001b[0m     \u001b[0mprint\u001b[0m\u001b[1;33m(\u001b[0m\u001b[1;34m\"el promedio total es:\"\u001b[0m\u001b[1;33m,\u001b[0m\u001b[0mpromediotot\u001b[0m\u001b[1;33m)\u001b[0m\u001b[1;33m\u001b[0m\u001b[1;33m\u001b[0m\u001b[0m\n",
      "\u001b[1;31mNameError\u001b[0m: name 'prom' is not defined"
     ]
    }
   ],
   "source": [
    "promediot()"
   ]
  },
  {
   "cell_type": "markdown",
   "metadata": {},
   "source": [
    "### 4.\n",
    "Realizar una función que indique quién tuvo el promedio más alto y quién tuvo la nota promedio más baja."
   ]
  },
  {
   "cell_type": "code",
   "execution_count": null,
   "metadata": {},
   "outputs": [],
   "source": []
  },
  {
   "cell_type": "code",
   "execution_count": null,
   "metadata": {},
   "outputs": [],
   "source": []
  },
  {
   "cell_type": "code",
   "execution_count": null,
   "metadata": {},
   "outputs": [],
   "source": []
  },
  {
   "cell_type": "markdown",
   "metadata": {},
   "source": [
    "### 5.\n",
    "Realizar una función que permita buscar un alumno por nombre, siendo el nombre completo o parcial, y devuelva una lista con los n alumnos que concuerden con ese nombre junto con todos sus datos, incluido el promedio de sus notas."
   ]
  },
  {
   "cell_type": "code",
   "execution_count": null,
   "metadata": {},
   "outputs": [],
   "source": []
  }
 ],
 "metadata": {
  "kernelspec": {
   "display_name": "Python 3",
   "language": "python",
   "name": "python3"
  },
  "language_info": {
   "codemirror_mode": {
    "name": "ipython",
    "version": 3
   },
   "file_extension": ".py",
   "mimetype": "text/x-python",
   "name": "python",
   "nbconvert_exporter": "python",
   "pygments_lexer": "ipython3",
   "version": "3.8.3"
  }
 },
 "nbformat": 4,
 "nbformat_minor": 4
}
