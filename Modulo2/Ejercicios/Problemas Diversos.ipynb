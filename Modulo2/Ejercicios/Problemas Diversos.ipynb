{
 "cells": [
  {
   "cell_type": "markdown",
   "metadata": {},
   "source": [
    "# PROBLEMAS DIVERSOS"
   ]
  },
  {
   "cell_type": "markdown",
   "metadata": {},
   "source": [
    "<h3>1.</h3>\n",
    "Realizar una función que permita la carga de n alumnos. Por cada alumno se deberá preguntar el nombre completo y permitir el ingreso de 3 notas. Las notas deben estar comprendidas entre 0 y 10. Devolver el listado de alumnos."
   ]
  },
  {
   "cell_type": "code",
   "execution_count": 12,
   "metadata": {},
   "outputs": [
    {
     "name": "stdin",
     "output_type": "stream",
     "text": [
      "Cuantos alumnos hay: 2\n",
      "Ingrese nombre completo del alumno: maria\n",
      "Ingrese las notas del alumno 7\n",
      "Ingrese las notas del alumno 5\n",
      "Ingrese las notas del alumno 8\n",
      "Ingrese nombre completo del alumno: juan\n",
      "Ingrese las notas del alumno 4\n",
      "Ingrese las notas del alumno 8\n",
      "Ingrese las notas del alumno 7\n"
     ]
    }
   ],
   "source": [
    "alumnos = {}\n",
    "n= int(input('Cuantos alumnos hay:'))\n",
    "for num in range(n):\n",
    "    alumno = input('Ingrese nombre completo del alumno:')\n",
    "    notas = []\n",
    "    nota1= float (input('Ingrese las notas del alumno'))\n",
    "    if nota1>=0 and nota1<=10:\n",
    "        notas.append(nota1)\n",
    "        nota2= float (input('Ingrese las notas del alumno'))\n",
    "        if nota2>=0 and nota2<=10:\n",
    "            notas.append(nota2)\n",
    "            nota3= float (input('Ingrese las notas del alumno'))\n",
    "            if nota3>=0 and nota3<=10:\n",
    "                notas.append(nota3)\n",
    "                notas=[nota1,nota2,nota3]\n",
    "            else:\n",
    "                print('Valor incorrecto')\n",
    "                alumnos[alumno] = notas.copy()"
   ]
  },
  {
   "cell_type": "code",
   "execution_count": null,
   "metadata": {},
   "outputs": [],
   "source": []
  },
  {
   "cell_type": "code",
   "execution_count": 2,
   "metadata": {},
   "outputs": [
    {
     "name": "stdin",
     "output_type": "stream",
     "text": [
      "Ingrese el número de alumnos  2\n",
      "Ingrese el nombre completo del alumno:  mario\n",
      "Ingrese la nota 1 del alumno  7\n",
      "Ingrese la nota 2 del alumno  8\n",
      "Ingrese la nota 3 del alumno  7\n",
      "Ingrese el nombre completo del alumno:  juan\n",
      "Ingrese la nota 1 del alumno  7\n",
      "Ingrese la nota 2 del alumno  8\n",
      "Ingrese la nota 3 del alumno  4\n"
     ]
    }
   ],
   "source": [
    "alumnos=[]\n",
    "num=int(input(\"Ingrese el número de alumnos \"))\n",
    "listado_alumnos=[]\n",
    "for i in range(num):\n",
    "    nomb=input(\"Ingrese el nombre completo del alumno: \")\n",
    "    nota1=int(input(\"Ingrese la nota 1 del alumno \"))\n",
    "    if nota1>=0 and nota1<=10:\n",
    "        nota2=int(input(\"Ingrese la nota 2 del alumno \"))\n",
    "        if nota2>=0 and nota2<=10:\n",
    "            nota3=int(input(\"Ingrese la nota 3 del alumno \"))\n",
    "            if nota3>=0 and nota3<=10:\n",
    "                alumnos={'nombre':nomb,'notas':[nota1,nota2,nota3]}\n",
    "            else:\n",
    "                print(\"valor incorrecto\")\n",
    "        else:\n",
    "            print(\"valor incorrecto\")\n",
    "    else:\n",
    "        print(\"valor incorrecto\")\n",
    "    notas=[nota1,nota2,nota3]\n",
    "    alumnos={'nombre':nomb,'notas':notas}\n",
    "    listado_alumnos.append(alumnos)  "
   ]
  },
  {
   "cell_type": "code",
   "execution_count": 3,
   "metadata": {},
   "outputs": [
    {
     "data": {
      "text/plain": [
       "[{'nombre': 'mario', 'notas': [7, 8, 7]},\n",
       " {'nombre': 'juan', 'notas': [7, 8, 4]}]"
      ]
     },
     "execution_count": 3,
     "metadata": {},
     "output_type": "execute_result"
    }
   ],
   "source": [
    "listado_alumnos"
   ]
  },
  {
   "cell_type": "markdown",
   "metadata": {},
   "source": [
    "### 2.\n",
    "Definir una función que dado un listado de alumnos evalúe cuántos aprobaron y cuántos desaprobaron, teniendo en cuenta que se aprueba con 4. La nota será el promedio de las 3 notas para cada alumno."
   ]
  },
  {
   "cell_type": "code",
   "execution_count": 4,
   "metadata": {},
   "outputs": [
    {
     "name": "stdout",
     "output_type": "stream",
     "text": [
      "Aprobo\n"
     ]
    }
   ],
   "source": [
    "alumnos\n",
    "aprobados=[]\n",
    "desaprobados=[]\n",
    "promedio= sum(notas)/3\n",
    "if promedio >=4:\n",
    "    print('Aprobo')\n",
    "else:\n",
    "    print ('desaprobo')\n",
    "    "
   ]
  },
  {
   "cell_type": "code",
   "execution_count": 6,
   "metadata": {},
   "outputs": [],
   "source": [
    "def promedio():\n",
    "    prom=[]\n",
    "    promedio= sum(notas)/3\n",
    "    if promedio >=4:\n",
    "        listado_alumnos=[]\n",
    "        alumnos={'nombre',nomb,'promedio', promedio}\n",
    "        print('nombre',nomb,'Aprobo', promedio)\n",
    "    else:\n",
    "        print ('nombre',nomb,'desaprobo', promedio)\n",
    "        prom.append(promedio)"
   ]
  },
  {
   "cell_type": "code",
   "execution_count": 7,
   "metadata": {},
   "outputs": [
    {
     "name": "stdout",
     "output_type": "stream",
     "text": [
      "nombre juan Aprobo 6.333333333333333\n"
     ]
    }
   ],
   "source": [
    "promedio()"
   ]
  },
  {
   "cell_type": "markdown",
   "metadata": {},
   "source": [
    "### 3.\n",
    "Informar el promedio de nota del curso total."
   ]
  },
  {
   "cell_type": "code",
   "execution_count": null,
   "metadata": {},
   "outputs": [],
   "source": [
    "def promediot():\n",
    "    prom.append(promedio)\n",
    "    promediotot=sum(promedio)/num\n",
    "    print(\"el promedio total es:\",promediotot)"
   ]
  },
  {
   "cell_type": "code",
   "execution_count": null,
   "metadata": {},
   "outputs": [],
   "source": []
  },
  {
   "cell_type": "markdown",
   "metadata": {},
   "source": [
    "### 4.\n",
    "Realizar una función que indique quién tuvo el promedio más alto y quién tuvo la nota promedio más baja."
   ]
  },
  {
   "cell_type": "code",
   "execution_count": null,
   "metadata": {},
   "outputs": [],
   "source": []
  },
  {
   "cell_type": "code",
   "execution_count": null,
   "metadata": {},
   "outputs": [],
   "source": []
  },
  {
   "cell_type": "code",
   "execution_count": null,
   "metadata": {},
   "outputs": [],
   "source": []
  },
  {
   "cell_type": "markdown",
   "metadata": {},
   "source": [
    "### 5.\n",
    "Realizar una función que permita buscar un alumno por nombre, siendo el nombre completo o parcial, y devuelva una lista con los n alumnos que concuerden con ese nombre junto con todos sus datos, incluido el promedio de sus notas."
   ]
  },
  {
   "cell_type": "code",
   "execution_count": null,
   "metadata": {},
   "outputs": [],
   "source": []
  }
 ],
 "metadata": {
  "kernelspec": {
   "display_name": "Python 3",
   "language": "python",
   "name": "python3"
  },
  "language_info": {
   "codemirror_mode": {
    "name": "ipython",
    "version": 3
   },
   "file_extension": ".py",
   "mimetype": "text/x-python",
   "name": "python",
   "nbconvert_exporter": "python",
   "pygments_lexer": "ipython3",
   "version": "3.8.3"
  }
 },
 "nbformat": 4,
 "nbformat_minor": 4
}
